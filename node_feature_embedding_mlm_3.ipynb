{
 "cells": [
  {
   "cell_type": "code",
   "execution_count": 18,
   "id": "c6b48eab-c9fc-4697-b412-188235544562",
   "metadata": {},
   "outputs": [],
   "source": [
    "# Import necessary libraries\n",
    "import h5py\n",
    "import numpy as np\n",
    "import random\n",
    "import torch\n",
    "import torch.nn as nn\n",
    "import torch.optim as optim\n",
    "from torch.utils.data import Dataset, DataLoader\n",
    "import torch.nn.functional as F\n",
    "from tqdm import tqdm\n",
    "import torch\n",
    "from torch.utils.data import Dataset\n",
    "import h5py\n",
    "import torch.nn as nn\n",
    "import numpy as np\n",
    "\n",
    "import torch\n",
    "from torch.utils.data import Dataset\n",
    "import h5py\n",
    "import torch.optim as optim\n",
    "import torch.nn as nn\n",
    "from torch.utils.data import DataLoader\n",
    "\n",
    "import h5py\n",
    "import torch\n",
    "from torch.utils.data import Dataset\n",
    "\n",
    "import seaborn as sns\n",
    "import matplotlib.pyplot as plt\n",
    "sns.set_theme()"
   ]
  },
  {
   "cell_type": "code",
   "execution_count": 2,
   "id": "94ad05be",
   "metadata": {},
   "outputs": [],
   "source": [
    "input_filename = '/mnt/f/hprc/segments.hdf5'\n",
    "train_dataset_label = \"train\"\n",
    "val_dataset_label = \"val\"\n",
    "test_dataset_label = \"test\""
   ]
  },
  {
   "cell_type": "code",
   "execution_count": 3,
   "id": "0f0bbb63",
   "metadata": {},
   "outputs": [],
   "source": [
    "class DNADataset(Dataset):\n",
    "    def __init__(self, hdf5_filename, split, chunk_size=512, overlap=0, mask_prob=0.15):\n",
    "        self.hdf5_filename = hdf5_filename\n",
    "        self.split = split\n",
    "        self.chunk_size = chunk_size\n",
    "        self.overlap = overlap\n",
    "        self.mask_prob = mask_prob\n",
    "        \n",
    "        self.nucleotide_to_index = {'A': 0, 'C': 1, 'G': 2, 'T': 3}\n",
    "        self.vocab_size = 6  # 4 nucleotides + 1 [MASK] token + 1 padding index\n",
    "        self.padding_index = self.vocab_size - 1\n",
    "        self.mask_token_index = self.vocab_size - 2\n",
    "        \n",
    "        self.hdf5_file = None\n",
    "        self.sequences = None\n",
    "        self.chunks = None\n",
    "\n",
    "    def _open_hdf5(self):\n",
    "        if self.hdf5_file is None:\n",
    "            self.hdf5_file = h5py.File(self.hdf5_filename, \"r\")\n",
    "            self.sequences = self.hdf5_file[self.split]\n",
    "            self.chunks = self._create_chunks()\n",
    "\n",
    "    def _create_chunks(self):\n",
    "        chunks = []\n",
    "        for idx, seq in enumerate(self.sequences):\n",
    "            seq_len = len(seq)\n",
    "            if seq_len == 0:\n",
    "                continue\n",
    "            if seq_len <= self.chunk_size:\n",
    "                chunks.append((idx, 0, seq_len))\n",
    "            else:\n",
    "                step = self.chunk_size - self.overlap\n",
    "                for start in range(0, seq_len - self.chunk_size + 1, step):\n",
    "                    end = start + self.chunk_size\n",
    "                    chunks.append((idx, start, end))\n",
    "                # handling the last chunk if it doesn't fit exactly\n",
    "                if (seq_len - self.chunk_size) % step != 0:\n",
    "                    start = seq_len - self.chunk_size\n",
    "                    end = seq_len\n",
    "                    chunks.append((idx, start, end))\n",
    "        return chunks\n",
    "\n",
    "    def __len__(self):\n",
    "        if self.chunks is None:\n",
    "            self._open_hdf5()\n",
    "        return len(self.chunks)\n",
    "\n",
    "    def __getitem__(self, idx):\n",
    "        if self.hdf5_file is None:\n",
    "            self._open_hdf5()\n",
    "\n",
    "        seq_idx, start, end = self.chunks[idx]\n",
    "        seq = self.sequences[seq_idx][start:end]\n",
    "\n",
    "        # Shape: (seq_len,)\n",
    "        seq_tensor = torch.from_numpy(seq).long()\n",
    "\n",
    "        input_seq, labels = self._apply_masking(seq_tensor)\n",
    "\n",
    "        # Shape: seq_len, vocab_size\n",
    "        one_hot_input_seq = torch.nn.functional.one_hot(input_seq, num_classes=self.vocab_size).float()\n",
    "\n",
    "        return one_hot_input_seq, labels\n",
    "\n",
    "    def _apply_masking(self, seq_tensor):\n",
    "        seq_len = seq_tensor.size(0)\n",
    "        labels = seq_tensor.clone()\n",
    "\n",
    "        # Create mask by deciding which positions to mask\n",
    "        mask = torch.rand(seq_len) < self.mask_prob\n",
    "        # This will result in computing loss on masked positions only\n",
    "        labels[~mask] = -100\n",
    "\n",
    "        # Replace masked positions with [MASK] token index\n",
    "        input_seq = seq_tensor.clone()\n",
    "        input_seq[mask] = self.mask_token_index\n",
    "\n",
    "        return input_seq, labels\n",
    "\n",
    "    def __del__(self):\n",
    "        if self.hdf5_file is not None:\n",
    "            self.hdf5_file.close()\n",
    "            self.hdf5_file = None\n"
   ]
  },
  {
   "cell_type": "code",
   "execution_count": 4,
   "id": "435ad95d",
   "metadata": {},
   "outputs": [],
   "source": [
    "def collate_fn(batch):\n",
    "    inputs = [item[0] for item in batch]  # item[0].shape: (seq_len, vocab_size)\n",
    "    labels = [item[1] for item in batch]  # item[1].shape: (seq_len,)\n",
    "\n",
    "    seq_lengths = [input_seq.size(0) for input_seq in inputs]\n",
    "    max_length = max(seq_lengths)\n",
    "    batch_size = len(inputs)\n",
    "    vocab_size = inputs[0].size(1)\n",
    "\n",
    "    padded_inputs = torch.zeros(batch_size, max_length, vocab_size)\n",
    "    padded_labels = torch.full((batch_size, max_length), fill_value=-100, dtype=torch.long)\n",
    "\n",
    "    for i in range(batch_size):\n",
    "        seq_len = inputs[i].size(0)\n",
    "        padded_inputs[i, :seq_len, :] = inputs[i]\n",
    "        padded_labels[i, :seq_len] = labels[i]\n",
    "\n",
    "    return padded_inputs, padded_labels\n"
   ]
  },
  {
   "cell_type": "code",
   "execution_count": 5,
   "id": "d7e4576f",
   "metadata": {},
   "outputs": [],
   "source": [
    "class PositionalEncoding(nn.Module):\n",
    "    def __init__(self, d_model, max_len=10000):\n",
    "        super(PositionalEncoding, self).__init__()\n",
    "\n",
    "        # positional encoding\n",
    "        pe = torch.zeros(max_len, d_model)\n",
    "        position = torch.arange(0, max_len).unsqueeze(1).float()\n",
    "        # -np.log(10000.0) is part of the sinusoidal positional encoding\n",
    "        div_term = torch.exp(torch.arange(0, d_model, 2).float() * (-np.log(10000.0) / d_model))\n",
    "\n",
    "        pe[:, 0::2] = torch.sin(position * div_term)\n",
    "        if d_model % 2 == 1:\n",
    "            pe[:, 1::2] = torch.cos(position * div_term[:-1])\n",
    "        else:\n",
    "            pe[:, 1::2] = torch.cos(position * div_term)\n",
    "\n",
    "        pe = pe.unsqueeze(0)  # shape: (1, max_len, d_model)\n",
    "        self.register_buffer(\"pe\", pe)\n",
    "\n",
    "    def forward(self, x):\n",
    "        # x shape: (batch_size, seq_len, d_model)\n",
    "        seq_len = x.size(1)\n",
    "        x = x + self.pe[:, :seq_len, :]\n",
    "        return x\n"
   ]
  },
  {
   "cell_type": "code",
   "execution_count": 6,
   "id": "8e9a32f9",
   "metadata": {},
   "outputs": [],
   "source": [
    "class TransformerModel(nn.Module):\n",
    "    def __init__(self, vocab_size, d_model, num_heads, num_layers, dim_feedforward, dropout=0.1, max_len=10000):\n",
    "        super(TransformerModel, self).__init__()\n",
    "        self.input_linear = nn.Linear(vocab_size, d_model)\n",
    "        self.positional_encoding = PositionalEncoding(d_model, max_len=max_len)\n",
    "        encoder_layer = nn.TransformerEncoderLayer(d_model, num_heads, dim_feedforward, dropout)\n",
    "        self.transformer_encoder = nn.TransformerEncoder(encoder_layer, num_layers)\n",
    "        self.output_layer = nn.Linear(d_model, vocab_size - 2)  # Exclude [MASK] token and padding index\n",
    "        self.dropout = nn.Dropout(dropout)\n",
    "\n",
    "    def forward(self, src, src_key_padding_mask=None):\n",
    "        # src: (batch_size, seq_len, vocab_size)\n",
    "        x = self.input_linear(src)  # Shape: (batch_size, seq_len, d_model)\n",
    "        x = self.positional_encoding(x)\n",
    "        x = x.transpose(0, 1)  # Transformer expects input as (seq_len, batch_size, d_model)\n",
    "        x = self.transformer_encoder(x, src_key_padding_mask=src_key_padding_mask)\n",
    "        x = x.transpose(0, 1)  # Back to (batch_size, seq_len, d_model)\n",
    "        output = self.output_layer(x)  # Shape: (batch_size, seq_len, vocab_size - 1)\n",
    "        return output"
   ]
  },
  {
   "cell_type": "code",
   "execution_count": 7,
   "id": "72fc7197",
   "metadata": {},
   "outputs": [],
   "source": [
    "device = torch.device(\"cuda\" if torch.cuda.is_available() else \"cpu\")"
   ]
  },
  {
   "cell_type": "code",
   "execution_count": 8,
   "id": "8f3249ef",
   "metadata": {},
   "outputs": [],
   "source": [
    "chunk_size = 512\n",
    "train_dataset = DNADataset(hdf5_filename=input_filename, split=train_dataset_label, chunk_size=chunk_size, overlap=0)\n",
    "val_dataset = DNADataset(hdf5_filename=input_filename, split=val_dataset_label, chunk_size=chunk_size, overlap=0)"
   ]
  },
  {
   "cell_type": "code",
   "execution_count": 9,
   "id": "bb2b60c3",
   "metadata": {},
   "outputs": [],
   "source": [
    "train_loader = DataLoader(train_dataset, batch_size=32, shuffle=True, num_workers=0, collate_fn=collate_fn)\n",
    "val_loader = DataLoader(val_dataset, batch_size=32, shuffle=False, num_workers=0, collate_fn=collate_fn)"
   ]
  },
  {
   "cell_type": "code",
   "execution_count": 10,
   "id": "52ec2912",
   "metadata": {},
   "outputs": [],
   "source": [
    "vocab_size = train_dataset.vocab_size\n",
    "d_model = 128\n",
    "num_heads = 8\n",
    "num_layers = 4\n",
    "dim_feedforward = 512\n",
    "dropout = 0.1\n",
    "learning_rate = 1e-4"
   ]
  },
  {
   "cell_type": "code",
   "execution_count": 11,
   "id": "a700263c",
   "metadata": {},
   "outputs": [
    {
     "name": "stderr",
     "output_type": "stream",
     "text": [
      "/home/hamed/hprc_graph_embedding/.venv/lib/python3.12/site-packages/torch/nn/modules/transformer.py:307: UserWarning: enable_nested_tensor is True, but self.use_nested_tensor is False because encoder_layer.self_attn.batch_first was not True(use batch_first for better inference performance)\n",
      "  warnings.warn(f\"enable_nested_tensor is True, but self.use_nested_tensor is False because {why_not_sparsity_fast_path}\")\n"
     ]
    }
   ],
   "source": [
    "model = TransformerModel(\n",
    "    vocab_size=vocab_size, \n",
    "    d_model=d_model, \n",
    "    num_heads=num_heads,\n",
    "    num_layers=num_layers, \n",
    "    dim_feedforward=dim_feedforward, \n",
    "    dropout=dropout,\n",
    "    max_len=chunk_size)\n",
    "\n",
    "model.to(device)\n",
    "\n",
    "criterion = nn.CrossEntropyLoss(ignore_index=-100)\n",
    "optimizer = optim.Adam(model.parameters(), lr=learning_rate)"
   ]
  },
  {
   "cell_type": "code",
   "execution_count": 12,
   "id": "76533761",
   "metadata": {},
   "outputs": [],
   "source": [
    "num_epochs = 30\n",
    "\n",
    "train_losses = []\n",
    "val_losses = []"
   ]
  },
  {
   "cell_type": "code",
   "execution_count": 13,
   "id": "16b4beb0",
   "metadata": {},
   "outputs": [
    {
     "name": "stderr",
     "output_type": "stream",
     "text": [
      "100%|██████████| 1984/1984 [02:00<00:00, 16.40it/s]\n",
      "100%|██████████| 181/181 [00:01<00:00, 163.21it/s]\n"
     ]
    },
    {
     "name": "stdout",
     "output_type": "stream",
     "text": [
      "Epoch 1/30, Train Loss: 1.3281, Validation Loss: 1.3553\n"
     ]
    },
    {
     "name": "stderr",
     "output_type": "stream",
     "text": [
      "100%|██████████| 1984/1984 [02:04<00:00, 15.99it/s]\n",
      "100%|██████████| 181/181 [00:01<00:00, 159.37it/s]\n"
     ]
    },
    {
     "name": "stdout",
     "output_type": "stream",
     "text": [
      "Epoch 2/30, Train Loss: 1.3253, Validation Loss: 1.3505\n"
     ]
    },
    {
     "name": "stderr",
     "output_type": "stream",
     "text": [
      "100%|██████████| 1984/1984 [02:01<00:00, 16.31it/s]\n",
      "100%|██████████| 181/181 [00:01<00:00, 164.73it/s]\n"
     ]
    },
    {
     "name": "stdout",
     "output_type": "stream",
     "text": [
      "Epoch 3/30, Train Loss: 1.3222, Validation Loss: 1.3497\n"
     ]
    },
    {
     "name": "stderr",
     "output_type": "stream",
     "text": [
      "100%|██████████| 1984/1984 [02:05<00:00, 15.84it/s]\n",
      "100%|██████████| 181/181 [00:01<00:00, 161.48it/s]\n"
     ]
    },
    {
     "name": "stdout",
     "output_type": "stream",
     "text": [
      "Epoch 4/30, Train Loss: 1.3045, Validation Loss: 1.3090\n"
     ]
    },
    {
     "name": "stderr",
     "output_type": "stream",
     "text": [
      "100%|██████████| 1984/1984 [02:01<00:00, 16.29it/s]\n",
      "100%|██████████| 181/181 [00:01<00:00, 165.86it/s]\n"
     ]
    },
    {
     "name": "stdout",
     "output_type": "stream",
     "text": [
      "Epoch 5/30, Train Loss: 1.0066, Validation Loss: 1.1328\n"
     ]
    },
    {
     "name": "stderr",
     "output_type": "stream",
     "text": [
      "100%|██████████| 1984/1984 [02:06<00:00, 15.74it/s]\n",
      "100%|██████████| 181/181 [00:01<00:00, 165.65it/s]\n"
     ]
    },
    {
     "name": "stdout",
     "output_type": "stream",
     "text": [
      "Epoch 6/30, Train Loss: 0.7936, Validation Loss: 1.0922\n"
     ]
    },
    {
     "name": "stderr",
     "output_type": "stream",
     "text": [
      "100%|██████████| 1984/1984 [02:01<00:00, 16.39it/s]\n",
      "100%|██████████| 181/181 [00:01<00:00, 163.70it/s]\n"
     ]
    },
    {
     "name": "stdout",
     "output_type": "stream",
     "text": [
      "Epoch 7/30, Train Loss: 0.6866, Validation Loss: 1.0582\n"
     ]
    },
    {
     "name": "stderr",
     "output_type": "stream",
     "text": [
      "100%|██████████| 1984/1984 [02:03<00:00, 16.02it/s]\n",
      "100%|██████████| 181/181 [00:01<00:00, 166.90it/s]\n"
     ]
    },
    {
     "name": "stdout",
     "output_type": "stream",
     "text": [
      "Epoch 8/30, Train Loss: 0.5996, Validation Loss: 1.0234\n"
     ]
    },
    {
     "name": "stderr",
     "output_type": "stream",
     "text": [
      "100%|██████████| 1984/1984 [02:01<00:00, 16.31it/s]\n",
      "100%|██████████| 181/181 [00:01<00:00, 162.61it/s]\n"
     ]
    },
    {
     "name": "stdout",
     "output_type": "stream",
     "text": [
      "Epoch 9/30, Train Loss: 0.5229, Validation Loss: 0.9843\n"
     ]
    },
    {
     "name": "stderr",
     "output_type": "stream",
     "text": [
      "100%|██████████| 1984/1984 [02:04<00:00, 15.92it/s]\n",
      "100%|██████████| 181/181 [00:01<00:00, 162.86it/s]\n"
     ]
    },
    {
     "name": "stdout",
     "output_type": "stream",
     "text": [
      "Epoch 10/30, Train Loss: 0.4461, Validation Loss: 0.9597\n"
     ]
    },
    {
     "name": "stderr",
     "output_type": "stream",
     "text": [
      "100%|██████████| 1984/1984 [02:01<00:00, 16.38it/s]\n",
      "100%|██████████| 181/181 [00:03<00:00, 45.83it/s] \n"
     ]
    },
    {
     "name": "stdout",
     "output_type": "stream",
     "text": [
      "Epoch 11/30, Train Loss: 0.3697, Validation Loss: 0.9286\n"
     ]
    },
    {
     "name": "stderr",
     "output_type": "stream",
     "text": [
      "100%|██████████| 1984/1984 [02:01<00:00, 16.36it/s]\n",
      "100%|██████████| 181/181 [00:01<00:00, 163.71it/s]\n"
     ]
    },
    {
     "name": "stdout",
     "output_type": "stream",
     "text": [
      "Epoch 12/30, Train Loss: 0.3038, Validation Loss: 0.9108\n"
     ]
    },
    {
     "name": "stderr",
     "output_type": "stream",
     "text": [
      "100%|██████████| 1984/1984 [02:03<00:00, 16.07it/s]\n",
      "100%|██████████| 181/181 [00:01<00:00, 158.00it/s]\n"
     ]
    },
    {
     "name": "stdout",
     "output_type": "stream",
     "text": [
      "Epoch 13/30, Train Loss: 0.2544, Validation Loss: 0.9124\n"
     ]
    },
    {
     "name": "stderr",
     "output_type": "stream",
     "text": [
      "100%|██████████| 1984/1984 [02:00<00:00, 16.40it/s]\n",
      "100%|██████████| 181/181 [00:01<00:00, 168.93it/s]\n"
     ]
    },
    {
     "name": "stdout",
     "output_type": "stream",
     "text": [
      "Epoch 14/30, Train Loss: 0.2227, Validation Loss: 0.8862\n"
     ]
    },
    {
     "name": "stderr",
     "output_type": "stream",
     "text": [
      "100%|██████████| 1984/1984 [02:02<00:00, 16.17it/s]\n",
      "100%|██████████| 181/181 [00:01<00:00, 156.49it/s]\n"
     ]
    },
    {
     "name": "stdout",
     "output_type": "stream",
     "text": [
      "Epoch 15/30, Train Loss: 0.1995, Validation Loss: 0.8880\n"
     ]
    },
    {
     "name": "stderr",
     "output_type": "stream",
     "text": [
      "100%|██████████| 1984/1984 [02:01<00:00, 16.28it/s]\n",
      "100%|██████████| 181/181 [00:01<00:00, 142.13it/s]\n"
     ]
    },
    {
     "name": "stdout",
     "output_type": "stream",
     "text": [
      "Epoch 16/30, Train Loss: 0.1841, Validation Loss: 0.8820\n"
     ]
    },
    {
     "name": "stderr",
     "output_type": "stream",
     "text": [
      "100%|██████████| 1984/1984 [01:59<00:00, 16.59it/s]\n",
      "100%|██████████| 181/181 [00:01<00:00, 158.59it/s]\n"
     ]
    },
    {
     "name": "stdout",
     "output_type": "stream",
     "text": [
      "Epoch 17/30, Train Loss: 0.1727, Validation Loss: 0.8707\n"
     ]
    },
    {
     "name": "stderr",
     "output_type": "stream",
     "text": [
      "100%|██████████| 1984/1984 [02:05<00:00, 15.86it/s]\n",
      "100%|██████████| 181/181 [00:01<00:00, 169.65it/s]\n"
     ]
    },
    {
     "name": "stdout",
     "output_type": "stream",
     "text": [
      "Epoch 18/30, Train Loss: 0.1633, Validation Loss: 0.8743\n"
     ]
    },
    {
     "name": "stderr",
     "output_type": "stream",
     "text": [
      "100%|██████████| 1984/1984 [02:03<00:00, 16.10it/s]\n",
      "100%|██████████| 181/181 [00:01<00:00, 156.44it/s]\n"
     ]
    },
    {
     "name": "stdout",
     "output_type": "stream",
     "text": [
      "Epoch 19/30, Train Loss: 0.1559, Validation Loss: 0.8571\n"
     ]
    },
    {
     "name": "stderr",
     "output_type": "stream",
     "text": [
      "100%|██████████| 1984/1984 [01:58<00:00, 16.75it/s]\n",
      "100%|██████████| 181/181 [00:01<00:00, 170.83it/s]\n"
     ]
    },
    {
     "name": "stdout",
     "output_type": "stream",
     "text": [
      "Epoch 20/30, Train Loss: 0.1510, Validation Loss: 0.8599\n"
     ]
    },
    {
     "name": "stderr",
     "output_type": "stream",
     "text": [
      "100%|██████████| 1984/1984 [02:01<00:00, 16.39it/s]\n",
      "100%|██████████| 181/181 [00:01<00:00, 169.64it/s]\n"
     ]
    },
    {
     "name": "stdout",
     "output_type": "stream",
     "text": [
      "Epoch 21/30, Train Loss: 0.1458, Validation Loss: 0.8672\n"
     ]
    },
    {
     "name": "stderr",
     "output_type": "stream",
     "text": [
      "100%|██████████| 1984/1984 [01:59<00:00, 16.60it/s]\n",
      "100%|██████████| 181/181 [00:01<00:00, 161.62it/s]\n"
     ]
    },
    {
     "name": "stdout",
     "output_type": "stream",
     "text": [
      "Epoch 22/30, Train Loss: 0.1413, Validation Loss: 0.8483\n"
     ]
    },
    {
     "name": "stderr",
     "output_type": "stream",
     "text": [
      "100%|██████████| 1984/1984 [02:00<00:00, 16.42it/s]\n",
      "100%|██████████| 181/181 [00:01<00:00, 169.30it/s]\n"
     ]
    },
    {
     "name": "stdout",
     "output_type": "stream",
     "text": [
      "Epoch 23/30, Train Loss: 0.1381, Validation Loss: 0.8448\n"
     ]
    },
    {
     "name": "stderr",
     "output_type": "stream",
     "text": [
      "100%|██████████| 1984/1984 [01:59<00:00, 16.61it/s]\n",
      "100%|██████████| 181/181 [00:01<00:00, 163.62it/s]\n"
     ]
    },
    {
     "name": "stdout",
     "output_type": "stream",
     "text": [
      "Epoch 24/30, Train Loss: 0.1349, Validation Loss: 0.8286\n"
     ]
    },
    {
     "name": "stderr",
     "output_type": "stream",
     "text": [
      "100%|██████████| 1984/1984 [02:00<00:00, 16.41it/s]\n",
      "100%|██████████| 181/181 [00:01<00:00, 156.30it/s]\n"
     ]
    },
    {
     "name": "stdout",
     "output_type": "stream",
     "text": [
      "Epoch 25/30, Train Loss: 0.1322, Validation Loss: 0.8291\n"
     ]
    },
    {
     "name": "stderr",
     "output_type": "stream",
     "text": [
      "100%|██████████| 1984/1984 [02:01<00:00, 16.37it/s]\n",
      "100%|██████████| 181/181 [00:01<00:00, 169.28it/s]\n"
     ]
    },
    {
     "name": "stdout",
     "output_type": "stream",
     "text": [
      "Epoch 26/30, Train Loss: 0.1308, Validation Loss: 0.8286\n"
     ]
    },
    {
     "name": "stderr",
     "output_type": "stream",
     "text": [
      "100%|██████████| 1984/1984 [01:59<00:00, 16.64it/s]\n",
      "100%|██████████| 181/181 [00:01<00:00, 170.12it/s]\n"
     ]
    },
    {
     "name": "stdout",
     "output_type": "stream",
     "text": [
      "Epoch 27/30, Train Loss: 0.1267, Validation Loss: 0.8318\n"
     ]
    },
    {
     "name": "stderr",
     "output_type": "stream",
     "text": [
      "100%|██████████| 1984/1984 [02:00<00:00, 16.42it/s]\n",
      "100%|██████████| 181/181 [00:01<00:00, 155.66it/s]\n"
     ]
    },
    {
     "name": "stdout",
     "output_type": "stream",
     "text": [
      "Epoch 28/30, Train Loss: 0.1251, Validation Loss: 0.8284\n"
     ]
    },
    {
     "name": "stderr",
     "output_type": "stream",
     "text": [
      "100%|██████████| 1984/1984 [01:58<00:00, 16.78it/s]\n",
      "100%|██████████| 181/181 [00:01<00:00, 169.48it/s]\n"
     ]
    },
    {
     "name": "stdout",
     "output_type": "stream",
     "text": [
      "Epoch 29/30, Train Loss: 0.1236, Validation Loss: 0.8355\n"
     ]
    },
    {
     "name": "stderr",
     "output_type": "stream",
     "text": [
      "100%|██████████| 1984/1984 [02:01<00:00, 16.35it/s]\n",
      "100%|██████████| 181/181 [00:01<00:00, 171.44it/s]"
     ]
    },
    {
     "name": "stdout",
     "output_type": "stream",
     "text": [
      "Epoch 30/30, Train Loss: 0.1209, Validation Loss: 0.8218\n"
     ]
    },
    {
     "name": "stderr",
     "output_type": "stream",
     "text": [
      "\n"
     ]
    }
   ],
   "source": [
    "for epoch in range(num_epochs):\n",
    "    model.train()\n",
    "    total_train_loss = 0\n",
    "    for batch_inputs, batch_labels in tqdm(train_loader):\n",
    "        batch_inputs = batch_inputs.to(device)  # Shape: (batch_size, seq_len, vocab_size)\n",
    "        batch_labels = batch_labels.to(device)  # Shape: (batch_size, seq_len)\n",
    "\n",
    "        optimizer.zero_grad()\n",
    "\n",
    "        # Create src_key_padding_mask: True for padding positions\n",
    "        src_key_padding_mask = torch.all(batch_inputs == 0, dim=-1)  # Shape: (batch_size, seq_len)\n",
    "\n",
    "        outputs = model(batch_inputs, src_key_padding_mask=src_key_padding_mask)  # Shape: (batch_size, seq_len, vocab_size - 1)\n",
    "\n",
    "        # Adjust labels: map padding index to -100\n",
    "        adjusted_labels = batch_labels.clone()\n",
    "        adjusted_labels[adjusted_labels == train_dataset.padding_index] = -100  # Ignore padding positions\n",
    "\n",
    "        # Remove [MASK] token index from labels (if present)\n",
    "        adjusted_labels[adjusted_labels == train_dataset.mask_token_index] = -100  # Ignore masked positions in loss\n",
    "\n",
    "        # Ensure labels are within [0, vocab_size - 3] (since vocab_size - 1 is padding index, and vocab_size - 2 is [MASK] token)\n",
    "        valid_label_mask = (adjusted_labels >= 0) & (adjusted_labels <= 3)\n",
    "        adjusted_labels[~valid_label_mask] = -100  # Ignore any invalid labels\n",
    "\n",
    "        # Compute loss\n",
    "        loss = criterion(outputs.view(-1, vocab_size - 2), adjusted_labels.view(-1))\n",
    "\n",
    "        if not torch.isfinite(loss):\n",
    "            print(\"Loss is NaN or Inf, skipping batch\")\n",
    "            continue\n",
    "\n",
    "        loss.backward()\n",
    "        torch.nn.utils.clip_grad_norm_(model.parameters(), max_norm=1.0)\n",
    "        optimizer.step()\n",
    "\n",
    "        total_train_loss += loss.item()\n",
    "\n",
    "    avg_train_loss = total_train_loss / len(train_loader)\n",
    "    train_losses.append(avg_train_loss)\n",
    "\n",
    "    # Validation\n",
    "    model.eval()\n",
    "    total_val_loss = 0\n",
    "    with torch.no_grad():\n",
    "        for batch_inputs, batch_labels in tqdm(val_loader):\n",
    "            batch_inputs = batch_inputs.to(device)\n",
    "            batch_labels = batch_labels.to(device)\n",
    "\n",
    "            src_key_padding_mask = torch.all(batch_inputs == 0, dim=-1)\n",
    "\n",
    "            outputs = model(batch_inputs, src_key_padding_mask=src_key_padding_mask)\n",
    "\n",
    "            adjusted_labels = batch_labels.clone()\n",
    "            adjusted_labels[adjusted_labels == train_dataset.padding_index] = -100\n",
    "            adjusted_labels[adjusted_labels == train_dataset.mask_token_index] = -100 # train_dataset.unknown_nucleotide_index\n",
    "\n",
    "            loss = criterion(outputs.view(-1, vocab_size - 2), adjusted_labels.view(-1))\n",
    "\n",
    "            total_val_loss += loss.item()\n",
    "\n",
    "    avg_val_loss = total_val_loss / len(val_loader)\n",
    "    val_losses.append(avg_val_loss)\n",
    "\n",
    "    print(f\"Epoch {epoch+1}/{num_epochs}, Train Loss: {avg_train_loss:.4f}, Validation Loss: {avg_val_loss:.4f}\")\n"
   ]
  },
  {
   "cell_type": "code",
   "execution_count": 27,
   "id": "63bb0ff3",
   "metadata": {},
   "outputs": [],
   "source": [
    "# After training is complete, save the model\n",
    "torch.save(model.state_dict(), \"trained_model.pth\")"
   ]
  },
  {
   "cell_type": "code",
   "execution_count": 29,
   "id": "896bb174",
   "metadata": {},
   "outputs": [
    {
     "name": "stderr",
     "output_type": "stream",
     "text": [
      "/tmp/ipykernel_68540/1956377585.py:10: FutureWarning: You are using `torch.load` with `weights_only=False` (the current default value), which uses the default pickle module implicitly. It is possible to construct malicious pickle data which will execute arbitrary code during unpickling (See https://github.com/pytorch/pytorch/blob/main/SECURITY.md#untrusted-models for more details). In a future release, the default value for `weights_only` will be flipped to `True`. This limits the functions that could be executed during unpickling. Arbitrary objects will no longer be allowed to be loaded via this mode unless they are explicitly allowlisted by the user via `torch.serialization.add_safe_globals`. We recommend you start setting `weights_only=True` for any use case where you don't have full control of the loaded file. Please open an issue on GitHub for any issues related to this experimental feature.\n",
      "  model.load_state_dict(torch.load(\"trained_model.pth\"))\n"
     ]
    },
    {
     "data": {
      "text/plain": [
       "TransformerModel(\n",
       "  (input_linear): Linear(in_features=6, out_features=128, bias=True)\n",
       "  (positional_encoding): PositionalEncoding()\n",
       "  (transformer_encoder): TransformerEncoder(\n",
       "    (layers): ModuleList(\n",
       "      (0-3): 4 x TransformerEncoderLayer(\n",
       "        (self_attn): MultiheadAttention(\n",
       "          (out_proj): NonDynamicallyQuantizableLinear(in_features=128, out_features=128, bias=True)\n",
       "        )\n",
       "        (linear1): Linear(in_features=128, out_features=512, bias=True)\n",
       "        (dropout): Dropout(p=0.1, inplace=False)\n",
       "        (linear2): Linear(in_features=512, out_features=128, bias=True)\n",
       "        (norm1): LayerNorm((128,), eps=1e-05, elementwise_affine=True)\n",
       "        (norm2): LayerNorm((128,), eps=1e-05, elementwise_affine=True)\n",
       "        (dropout1): Dropout(p=0.1, inplace=False)\n",
       "        (dropout2): Dropout(p=0.1, inplace=False)\n",
       "      )\n",
       "    )\n",
       "  )\n",
       "  (output_layer): Linear(in_features=128, out_features=4, bias=True)\n",
       "  (dropout): Dropout(p=0.1, inplace=False)\n",
       ")"
      ]
     },
     "execution_count": 29,
     "metadata": {},
     "output_type": "execute_result"
    }
   ],
   "source": [
    "model = TransformerModel(\n",
    "    vocab_size=vocab_size, \n",
    "    d_model=d_model, \n",
    "    num_heads=num_heads,\n",
    "    num_layers=num_layers, \n",
    "    dim_feedforward=dim_feedforward, \n",
    "    dropout=dropout,\n",
    "    max_len=chunk_size)\n",
    "\n",
    "model.load_state_dict(torch.load(\"trained_model.pth\"))\n",
    "model.to(device)"
   ]
  },
  {
   "cell_type": "code",
   "execution_count": 19,
   "id": "57cebbfb",
   "metadata": {},
   "outputs": [
    {
     "data": {
      "image/png": "[encoded data removed]",
      "text/plain": [
       "<Figure size 1000x500 with 1 Axes>"
      ]
     },
     "metadata": {},
     "output_type": "display_data"
    }
   ],
   "source": [
    "# Plot the losses\n",
    "plt.figure(figsize=(10, 5))\n",
    "plt.plot(range(1, num_epochs + 1), train_losses, label='Training Loss')\n",
    "plt.plot(range(1, num_epochs + 1), val_losses, label='Validation Loss')\n",
    "plt.xlabel('Epochs')\n",
    "plt.ylabel('Loss')\n",
    "plt.title('Training and Validation Loss Over Epochs')\n",
    "plt.legend()\n",
    "plt.show()"
   ]
  },
  {
   "cell_type": "code",
   "execution_count": 16,
   "id": "9e8414a4",
   "metadata": {},
   "outputs": [],
   "source": [
    "test_dataset = DNADataset(hdf5_filename=input_filename, split=test_dataset_label, chunk_size=512, overlap=0)\n",
    "test_loader = DataLoader(test_dataset, batch_size=32, shuffle=False, num_workers=0, collate_fn=collate_fn)"
   ]
  },
  {
   "cell_type": "code",
   "execution_count": 32,
   "id": "3175e55c",
   "metadata": {},
   "outputs": [],
   "source": [
    "def evaluate_model_on_test(model, test_loader, criterion, device):\n",
    "    model.eval()  # Set model to evaluation mode\n",
    "    total_test_loss = 0\n",
    "    correct_predictions = 0\n",
    "    total_samples = 0\n",
    "\n",
    "    with torch.no_grad():  # Disable gradient calculation\n",
    "        for batch_inputs, batch_labels in tqdm(test_loader):\n",
    "            batch_inputs = batch_inputs.to(device)\n",
    "            batch_labels = batch_labels.to(device)\n",
    "\n",
    "            # Forward pass\n",
    "            outputs = model(batch_inputs)\n",
    "\n",
    "            # Calculate loss\n",
    "            adjusted_labels = batch_labels.clone()\n",
    "            adjusted_labels[adjusted_labels == test_dataset.padding_index] = -100  # Ignore padding\n",
    "            adjusted_labels[adjusted_labels == test_dataset.mask_token_index] = -100  # Ignore masked positions\n",
    "            valid_label_mask = (adjusted_labels >= 0) & (adjusted_labels <= 3)\n",
    "            adjusted_labels[~valid_label_mask] = -100  # Ignore invalid labels\n",
    "\n",
    "            # Compute loss\n",
    "            loss = criterion(outputs.view(-1, test_dataset.vocab_size - 2), adjusted_labels.view(-1))\n",
    "            total_test_loss += loss.item()\n",
    "\n",
    "            # Calculate accuracy (optional, for classification tasks)\n",
    "            _, predicted = torch.max(outputs, dim=-1)  # Get predicted class\n",
    "            mask = adjusted_labels != -100  # Mask to avoid counting ignored labels\n",
    "            correct_predictions += (predicted[mask] == adjusted_labels[mask]).sum().item()\n",
    "            total_samples += mask.sum().item()\n",
    "\n",
    "    # Calculate average test loss and accuracy\n",
    "    avg_test_loss = total_test_loss / len(test_loader)\n",
    "    test_accuracy = correct_predictions / total_samples * 100\n",
    "\n",
    "    return avg_test_loss, test_accuracy"
   ]
  },
  {
   "cell_type": "code",
   "execution_count": 33,
   "id": "1a2766a3",
   "metadata": {},
   "outputs": [
    {
     "name": "stderr",
     "output_type": "stream",
     "text": [
      "100%|██████████| 163/163 [00:01<00:00, 116.61it/s]"
     ]
    },
    {
     "name": "stdout",
     "output_type": "stream",
     "text": [
      "Test Loss: 0.9615, Test Accuracy: 76.82%\n"
     ]
    },
    {
     "name": "stderr",
     "output_type": "stream",
     "text": [
      "\n"
     ]
    }
   ],
   "source": [
    "criterion = nn.CrossEntropyLoss(ignore_index=-100)\n",
    "test_loss, test_accuracy = evaluate_model_on_test(model, test_loader, criterion, device)\n",
    "\n",
    "print(f\"Test Loss: {test_loss:.4f}, Test Accuracy: {test_accuracy:.2f}%\")"
   ]
  },
  {
   "cell_type": "code",
   "execution_count": 35,
   "id": "577da736",
   "metadata": {},
   "outputs": [],
   "source": [
    "def preprocess_sequence(sequence, vocab_size):\n",
    "    # Assume your model uses a one-hot encoded representation of the DNA sequence\n",
    "    nucleotide_to_index = {'A': 0, 'C': 1, 'G': 2, 'T': 3}\n",
    "    \n",
    "    # Convert sequence to indices\n",
    "    sequence_indices = [nucleotide_to_index[nuc] for nuc in sequence]\n",
    "    \n",
    "    # Convert to one-hot encoding\n",
    "    one_hot_sequence = torch.nn.functional.one_hot(torch.tensor(sequence_indices), num_classes=vocab_size).float()\n",
    "    \n",
    "    # Add batch dimension (batch_size=1) for single sequence\n",
    "    one_hot_sequence = one_hot_sequence.unsqueeze(0)  # Shape: (1, seq_len, vocab_size)\n",
    "    \n",
    "    return one_hot_sequence"
   ]
  },
  {
   "cell_type": "code",
   "execution_count": 36,
   "id": "142c04a3",
   "metadata": {},
   "outputs": [],
   "source": [
    "def get_prediction_and_embedding(model, sequence, device):\n",
    "    model.eval()  # Set model to evaluation mode\n",
    "    \n",
    "    # Preprocess the sequence\n",
    "    vocab_size = 6  # 4 nucleotides + 1 [MASK] + 1 padding\n",
    "    preprocessed_sequence = preprocess_sequence(sequence, vocab_size).to(device)  # Shape: (1, seq_len, vocab_size)\n",
    "    \n",
    "    # Forward pass through the model\n",
    "    with torch.no_grad():  # Disable gradient computation for inference\n",
    "        # Get the output and intermediate embeddings (final transformer layer output)\n",
    "        output = model(preprocessed_sequence)  # Shape: (1, seq_len, vocab_size-2)\n",
    "    \n",
    "    return output, preprocessed_sequence"
   ]
  },
  {
   "cell_type": "code",
   "execution_count": 37,
   "id": "027f8a1a",
   "metadata": {},
   "outputs": [],
   "source": [
    "def decode_predictions(output, vocab_size):\n",
    "    # Get the predicted nucleotide index for each position\n",
    "    _, predicted_indices = torch.max(output, dim=-1)  # Shape: (1, seq_len)\n",
    "    \n",
    "    # Map the predicted indices back to nucleotides\n",
    "    index_to_nucleotide = {0: 'A', 1: 'C', 2: 'G', 3: 'T'}\n",
    "    predicted_sequence = ''.join([index_to_nucleotide[idx.item()] for idx in predicted_indices[0]])\n",
    "    \n",
    "    return predicted_sequence"
   ]
  },
  {
   "cell_type": "code",
   "execution_count": 38,
   "id": "586504db",
   "metadata": {},
   "outputs": [],
   "source": [
    "def extract_embeddings(output):\n",
    "    # The output of the model is already a tensor of embeddings for each position\n",
    "    # Shape: (1, seq_len, vocab_size - 2) --> Use it directly or process it further\n",
    "    embeddings = output.squeeze(0)  # Remove batch dimension (Shape: (seq_len, vocab_size - 2))\n",
    "    \n",
    "    return embeddings"
   ]
  },
  {
   "cell_type": "code",
   "execution_count": 49,
   "id": "c0c8c1bc",
   "metadata": {},
   "outputs": [],
   "source": [
    "def calculate_accuracy(true_sequence, predicted_sequence):\n",
    "    correct_predictions = 0\n",
    "    total_nucleotides = len(true_sequence)\n",
    "    \n",
    "    # Compare each predicted nucleotide with the true nucleotide\n",
    "    for true_nuc, pred_nuc in zip(true_sequence, predicted_sequence):\n",
    "        if true_nuc == pred_nuc:\n",
    "            correct_predictions += 1\n",
    "    \n",
    "    # Compute accuracy as the percentage of correct predictions\n",
    "    accuracy = (correct_predictions / total_nucleotides) * 100\n",
    "    return accuracy"
   ]
  },
  {
   "cell_type": "code",
   "execution_count": 58,
   "id": "f637c610",
   "metadata": {},
   "outputs": [
    {
     "name": "stdout",
     "output_type": "stream",
     "text": [
      "    Given Sequence: ACCCTTTTATACAC\n",
      "Predicted sequence: CAATTTTTTTTCCA\n",
      "              diff: xxxx----x-x-xx\n",
      "Accuracy: 42.86%\n",
      "\n",
      "\n",
      "Embeddings shape: torch.Size([14, 4])\n",
      "Embeddings for each position:\n",
      "tensor([[-0.3734, -0.1694, -0.6683, -0.2187],\n",
      "        [-0.2453, -0.4480, -0.4004, -0.3498],\n",
      "        [-0.0810, -0.3183, -0.8916, -0.1309],\n",
      "        [ 0.0784, -0.1325, -1.5281,  0.1896],\n",
      "        [ 0.1094, -0.2188, -1.5890,  0.2339],\n",
      "        [-0.2167, -0.4999, -1.1915,  0.3718],\n",
      "        [-0.7065, -0.1794, -0.7069,  0.2422],\n",
      "        [-0.5892, -0.2750, -0.6217,  0.1568],\n",
      "        [-0.4329, -0.1386, -0.7647,  0.1585],\n",
      "        [-0.3287, -0.3065, -0.7367,  0.1618],\n",
      "        [-0.4089, -0.1024, -0.6223, -0.0311],\n",
      "        [-0.1334, -0.0753, -0.7227, -0.1207],\n",
      "        [-0.1442,  0.1521, -1.2473,  0.0899],\n",
      "        [-0.1491, -0.2320, -0.6215, -0.2107]], device='cuda:0')\n"
     ]
    }
   ],
   "source": [
    "sequence = \"ACCCTTTTATACAC\"\n",
    "\n",
    "# Function to preprocess, predict, and extract embeddings\n",
    "def process_sequence_with_model(model, sequence, device):\n",
    "    output, preprocessed_sequence = get_prediction_and_embedding(model, sequence, device)\n",
    "    \n",
    "    # Decode predictions\n",
    "    predicted_sequence = decode_predictions(output, vocab_size=4)\n",
    "    accuracy = calculate_accuracy(sequence, predicted_sequence)\n",
    "\n",
    "    print(f\"    Given Sequence: {sequence}\")\n",
    "    print(f\"Predicted sequence: {predicted_sequence}\")\n",
    "    diff = \"\"\n",
    "    for i in range(max(len(sequence), len(predicted_sequence))):\n",
    "        if i >= len(sequence) or i >= len(predicted_sequence):\n",
    "            diff += \"x\"\n",
    "        elif sequence[i] != predicted_sequence[i]:\n",
    "            diff += \"x\"\n",
    "        else:\n",
    "            diff += \"-\"\n",
    "    print(f\"              diff: {diff}\")\n",
    "    print(f\"Accuracy: {accuracy:.2f}%\")\n",
    "    \n",
    "    # Extract embeddings\n",
    "    embeddings = extract_embeddings(output)\n",
    "    print(\"\\n\")\n",
    "    print(f\"Embeddings shape: {embeddings.shape}\")\n",
    "    print(f\"Embeddings for each position:\\n{embeddings}\")\n",
    "\n",
    "# Run the model on the example sequence\n",
    "process_sequence_with_model(model, sequence, device)"
   ]
  }
 ],
 "metadata": {
  "kernelspec": {
   "display_name": ".venv",
   "language": "python",
   "name": "python3"
  },
  "language_info": {
   "codemirror_mode": {
    "name": "ipython",
    "version": 3
   },
   "file_extension": ".py",
   "mimetype": "text/x-python",
   "name": "python",
   "nbconvert_exporter": "python",
   "pygments_lexer": "ipython3",
   "version": "3.12.3"
  }
 },
 "nbformat": 4,
 "nbformat_minor": 5
}
