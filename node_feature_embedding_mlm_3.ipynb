{
 "cells": [
  {
   "cell_type": "code",
   "execution_count": 1,
   "id": "c6b48eab-c9fc-4697-b412-188235544562",
   "metadata": {},
   "outputs": [],
   "source": [
    "# Import necessary libraries\n",
    "import h5py\n",
    "import numpy as np\n",
    "import random\n",
    "import torch\n",
    "import torch.nn as nn\n",
    "import torch.optim as optim\n",
    "from torch.utils.data import Dataset, DataLoader\n",
    "import torch.nn.functional as F\n",
    "from tqdm import tqdm\n",
    "import torch\n",
    "from torch.utils.data import Dataset\n",
    "import h5py\n",
    "import torch.nn as nn\n",
    "import numpy as np\n",
    "\n",
    "import torch\n",
    "from torch.utils.data import Dataset\n",
    "import h5py\n",
    "import torch.optim as optim\n",
    "import torch.nn as nn\n",
    "from torch.utils.data import DataLoader\n",
    "\n",
    "import matplotlib.pyplot as plt"
   ]
  },
  {
   "cell_type": "code",
   "execution_count": 2,
   "id": "94ad05be",
   "metadata": {},
   "outputs": [],
   "source": [
    "input_filename = '/mnt/f/hprc/segments.hdf5'\n",
    "train_dataset_label = \"train\"\n",
    "val_dataset_label = \"val\"\n",
    "test_dataset_label = \"test\""
   ]
  },
  {
   "cell_type": "code",
   "execution_count": 13,
   "id": "0f0bbb63",
   "metadata": {},
   "outputs": [],
   "source": [
    "class DNADataset(Dataset):\n",
    "    def __init__(self, hdf5_file_path, split='train', chunk_size=512, overlap=0, mask_prob=0.15):\n",
    "        self.hdf5_file_path = hdf5_file_path\n",
    "        self.split = split  # 'train', 'val', 'test'\n",
    "        self.chunk_size = chunk_size\n",
    "        self.overlap = overlap\n",
    "        self.mask_prob = mask_prob\n",
    "        self.vocab_size = 6  # 4 nucleotides + 1 [MASK] token + 1 padding index\n",
    "\n",
    "        self.padding_index = self.vocab_size - 1  # Padding index\n",
    "        self.mask_token_index = self.vocab_size - 2  # [MASK] token index\n",
    "\n",
    "        self.nucleotide_to_index = {'A': 0, 'C': 1, 'G': 2, 'T': 3}  # No unknown nucleotide\n",
    "\n",
    "        self.hdf5_file = None  # Will be opened per worker\n",
    "        self.chunks = None\n",
    "\n",
    "    def _create_chunks(self):\n",
    "        chunks = []\n",
    "        for idx, seq in enumerate(self.sequences):\n",
    "            seq_len = len(seq)\n",
    "            if seq_len == 0:\n",
    "                continue  # Skip empty sequences\n",
    "            if seq_len <= self.chunk_size:\n",
    "                chunks.append((idx, 0, seq_len))\n",
    "            else:\n",
    "                step = self.chunk_size - self.overlap\n",
    "                for start in range(0, seq_len - self.chunk_size + 1, step):\n",
    "                    end = start + self.chunk_size\n",
    "                    chunks.append((idx, start, end))\n",
    "                # Handle the last chunk if it doesn't fit exactly\n",
    "                if (seq_len - self.chunk_size) % step != 0:\n",
    "                    start = seq_len - self.chunk_size\n",
    "                    end = seq_len\n",
    "                    chunks.append((idx, start, end))\n",
    "        return chunks\n",
    "\n",
    "    def __len__(self):\n",
    "        return len(self.chunks)\n",
    "\n",
    "    def __getitem__(self, idx):\n",
    "        seq_idx, start, end = self.chunks[idx]\n",
    "        seq = self.sequences[seq_idx][start:end]\n",
    "        seq_tensor = torch.from_numpy(seq).long()  # Shape: (seq_len,)\n",
    "\n",
    "        # Apply masking for MLM\n",
    "        input_seq, labels = self._apply_masking(seq_tensor)\n",
    "\n",
    "        # Convert to one-hot encoding\n",
    "        one_hot_input_seq = torch.nn.functional.one_hot(input_seq, num_classes=self.vocab_size).float()  # Shape: (seq_len, vocab_size)\n",
    "\n",
    "        return one_hot_input_seq, labels\n",
    "\n",
    "    def _apply_masking(self, seq_tensor):\n",
    "        seq_len = seq_tensor.size(0)\n",
    "        labels = seq_tensor.clone()  # Original labels\n",
    "\n",
    "        # Create mask for MLM\n",
    "        mask = torch.rand(seq_len) < self.mask_prob  # Decide which positions to mask\n",
    "        labels[~mask] = -100  # We only compute loss on masked positions\n",
    "\n",
    "        # Replace masked positions with [MASK] token index\n",
    "        input_seq = seq_tensor.clone()\n",
    "        input_seq[mask] = self.mask_token_index  # [MASK] token index\n",
    "\n",
    "        return input_seq, labels\n",
    "\n",
    "    def __del__(self):\n",
    "        if self.hdf5_file is not None:\n",
    "            self.hdf5_file.close()  # Close the HDF5 file when the object is deleted\n"
   ]
  },
  {
   "cell_type": "code",
   "execution_count": 14,
   "id": "435ad95d",
   "metadata": {},
   "outputs": [],
   "source": [
    "def collate_fn(batch):\n",
    "    inputs = [item[0] for item in batch]  # Each item[0] is a tensor of shape (seq_len, vocab_size)\n",
    "    labels = [item[1] for item in batch]  # Each item[1] is a tensor of shape (seq_len,)\n",
    "\n",
    "    seq_lengths = [input_seq.size(0) for input_seq in inputs]\n",
    "    max_length = max(seq_lengths)\n",
    "    batch_size = len(inputs)\n",
    "    vocab_size = inputs[0].size(1)\n",
    "\n",
    "    # Initialize tensors for inputs and labels\n",
    "    padded_inputs = torch.zeros(batch_size, max_length, vocab_size)  # Padding with zeros\n",
    "    padded_labels = torch.full((batch_size, max_length), fill_value=-100, dtype=torch.long)\n",
    "\n",
    "    for i in range(batch_size):\n",
    "        seq_len = inputs[i].size(0)\n",
    "        padded_inputs[i, :seq_len, :] = inputs[i]\n",
    "        padded_labels[i, :seq_len] = labels[i]\n",
    "\n",
    "    return padded_inputs, padded_labels\n"
   ]
  },
  {
   "cell_type": "code",
   "execution_count": 16,
   "id": "d7e4576f",
   "metadata": {},
   "outputs": [],
   "source": [
    "class PositionalEncoding(nn.Module):\n",
    "    def __init__(self, d_model, max_len=10000):\n",
    "        super(PositionalEncoding, self).__init__()\n",
    "\n",
    "        pe = torch.zeros(max_len, d_model)\n",
    "        position = torch.arange(0, max_len).unsqueeze(1).float()\n",
    "        div_term = torch.exp(torch.arange(0, d_model, 2).float() * (-np.log(10000.0) / d_model))\n",
    "\n",
    "        pe[:, 0::2] = torch.sin(position * div_term)\n",
    "        if d_model % 2 == 1:\n",
    "            pe[:, 1::2] = torch.cos(position * div_term[:-1])\n",
    "        else:\n",
    "            pe[:, 1::2] = torch.cos(position * div_term)\n",
    "\n",
    "        pe = pe.unsqueeze(0)  # Shape: (1, max_len, d_model)\n",
    "        self.register_buffer('pe', pe)\n",
    "\n",
    "    def forward(self, x):\n",
    "        # x: (batch_size, seq_len, d_model)\n",
    "        seq_len = x.size(1)\n",
    "        x = x + self.pe[:, :seq_len, :]\n",
    "        return x\n",
    "\n",
    "class TransformerModel(nn.Module):\n",
    "    def __init__(self, vocab_size, d_model, num_heads, num_layers, dim_feedforward, dropout=0.1):\n",
    "        super(TransformerModel, self).__init__()\n",
    "        self.input_linear = nn.Linear(vocab_size, d_model)\n",
    "        self.positional_encoding = PositionalEncoding(d_model)\n",
    "        encoder_layer = nn.TransformerEncoderLayer(d_model, num_heads, dim_feedforward, dropout)\n",
    "        self.transformer_encoder = nn.TransformerEncoder(encoder_layer, num_layers)\n",
    "        self.output_layer = nn.Linear(d_model, vocab_size - 2)  # Exclude [MASK] token and padding index\n",
    "        self.dropout = nn.Dropout(dropout)\n",
    "\n",
    "    def forward(self, src, src_key_padding_mask=None):\n",
    "        # src: (batch_size, seq_len, vocab_size)\n",
    "        x = self.input_linear(src)  # Shape: (batch_size, seq_len, d_model)\n",
    "        x = self.positional_encoding(x)\n",
    "        x = x.transpose(0, 1)  # Transformer expects input as (seq_len, batch_size, d_model)\n",
    "        x = self.transformer_encoder(x, src_key_padding_mask=src_key_padding_mask)\n",
    "        x = x.transpose(0, 1)  # Back to (batch_size, seq_len, d_model)\n",
    "        output = self.output_layer(x)  # Shape: (batch_size, seq_len, vocab_size - 1)\n",
    "        return output\n"
   ]
  },
  {
   "cell_type": "code",
   "execution_count": 19,
   "id": "16b4beb0",
   "metadata": {},
   "outputs": [
    {
     "name": "stderr",
     "output_type": "stream",
     "text": [
      "/home/hamed/hprc_graph_embedding/.venv/lib/python3.12/site-packages/torch/nn/modules/transformer.py:307: UserWarning: enable_nested_tensor is True, but self.use_nested_tensor is False because encoder_layer.self_attn.batch_first was not True(use batch_first for better inference performance)\n",
      "  warnings.warn(f\"enable_nested_tensor is True, but self.use_nested_tensor is False because {why_not_sparsity_fast_path}\")\n",
      "100%|██████████| 1984/1984 [02:11<00:00, 15.07it/s]\n",
      "100%|██████████| 181/181 [00:01<00:00, 144.60it/s]\n"
     ]
    },
    {
     "name": "stdout",
     "output_type": "stream",
     "text": [
      "Epoch 1/10, Train Loss: 1.3303, Validation Loss: 1.3596\n"
     ]
    },
    {
     "name": "stderr",
     "output_type": "stream",
     "text": [
      "100%|██████████| 1984/1984 [02:13<00:00, 14.90it/s]\n",
      "100%|██████████| 181/181 [00:01<00:00, 140.17it/s]\n"
     ]
    },
    {
     "name": "stdout",
     "output_type": "stream",
     "text": [
      "Epoch 2/10, Train Loss: 1.3259, Validation Loss: 1.3547\n"
     ]
    },
    {
     "name": "stderr",
     "output_type": "stream",
     "text": [
      "100%|██████████| 1984/1984 [02:22<00:00, 13.91it/s]\n",
      "100%|██████████| 181/181 [00:01<00:00, 140.61it/s]\n"
     ]
    },
    {
     "name": "stdout",
     "output_type": "stream",
     "text": [
      "Epoch 3/10, Train Loss: 1.3230, Validation Loss: 1.3458\n"
     ]
    },
    {
     "name": "stderr",
     "output_type": "stream",
     "text": [
      "100%|██████████| 1984/1984 [02:18<00:00, 14.28it/s]\n",
      "100%|██████████| 181/181 [00:01<00:00, 143.69it/s]\n"
     ]
    },
    {
     "name": "stdout",
     "output_type": "stream",
     "text": [
      "Epoch 4/10, Train Loss: 1.3059, Validation Loss: 1.3228\n"
     ]
    },
    {
     "name": "stderr",
     "output_type": "stream",
     "text": [
      "100%|██████████| 1984/1984 [02:06<00:00, 15.69it/s]\n",
      "100%|██████████| 181/181 [00:01<00:00, 149.39it/s]\n"
     ]
    },
    {
     "name": "stdout",
     "output_type": "stream",
     "text": [
      "Epoch 5/10, Train Loss: 1.0532, Validation Loss: 1.1593\n"
     ]
    },
    {
     "name": "stderr",
     "output_type": "stream",
     "text": [
      "100%|██████████| 1984/1984 [02:12<00:00, 15.00it/s]\n",
      "100%|██████████| 181/181 [00:01<00:00, 147.61it/s]\n"
     ]
    },
    {
     "name": "stdout",
     "output_type": "stream",
     "text": [
      "Epoch 6/10, Train Loss: 0.7533, Validation Loss: 1.0610\n"
     ]
    },
    {
     "name": "stderr",
     "output_type": "stream",
     "text": [
      "100%|██████████| 1984/1984 [02:27<00:00, 13.46it/s]\n",
      "100%|██████████| 181/181 [00:01<00:00, 125.58it/s]\n"
     ]
    },
    {
     "name": "stdout",
     "output_type": "stream",
     "text": [
      "Epoch 7/10, Train Loss: 0.6141, Validation Loss: 1.0391\n"
     ]
    },
    {
     "name": "stderr",
     "output_type": "stream",
     "text": [
      "100%|██████████| 1984/1984 [02:27<00:00, 13.48it/s]\n",
      "100%|██████████| 181/181 [00:01<00:00, 131.22it/s]\n"
     ]
    },
    {
     "name": "stdout",
     "output_type": "stream",
     "text": [
      "Epoch 8/10, Train Loss: 0.5135, Validation Loss: 0.9758\n"
     ]
    },
    {
     "name": "stderr",
     "output_type": "stream",
     "text": [
      "100%|██████████| 1984/1984 [02:22<00:00, 13.93it/s]\n",
      "100%|██████████| 181/181 [00:01<00:00, 139.49it/s]\n"
     ]
    },
    {
     "name": "stdout",
     "output_type": "stream",
     "text": [
      "Epoch 9/10, Train Loss: 0.4197, Validation Loss: 0.9598\n"
     ]
    },
    {
     "name": "stderr",
     "output_type": "stream",
     "text": [
      "100%|██████████| 1984/1984 [02:12<00:00, 15.03it/s]\n",
      "100%|██████████| 181/181 [00:01<00:00, 128.68it/s]"
     ]
    },
    {
     "name": "stdout",
     "output_type": "stream",
     "text": [
      "Epoch 10/10, Train Loss: 0.3410, Validation Loss: 0.9413\n"
     ]
    },
    {
     "name": "stderr",
     "output_type": "stream",
     "text": [
      "\n"
     ]
    }
   ],
   "source": [
    "# Device configuration\n",
    "device = torch.device('cuda' if torch.cuda.is_available() else 'cpu')\n",
    "\n",
    "# Create datasets\n",
    "train_dataset = DNADataset(hdf5_file_path=input_filename, split=train_dataset_label, chunk_size=512, overlap=0)\n",
    "val_dataset = DNADataset(hdf5_file_path=input_filename, split=val_dataset_label, chunk_size=512, overlap=0)\n",
    "\n",
    "# Create DataLoaders\n",
    "train_loader = DataLoader(train_dataset, batch_size=32, shuffle=True, num_workers=0, collate_fn=collate_fn)\n",
    "val_loader = DataLoader(val_dataset, batch_size=32, shuffle=False, num_workers=0, collate_fn=collate_fn)\n",
    "\n",
    "# Model parameters\n",
    "vocab_size = train_dataset.vocab_size  # 4 nucleotides + 1 unknown + 1 [MASK] token + 1 padding index\n",
    "d_model = 128\n",
    "num_heads = 8\n",
    "num_layers = 4\n",
    "dim_feedforward = 512\n",
    "dropout = 0.1\n",
    "learning_rate = 1e-4\n",
    "\n",
    "# Initialize model, criterion, and optimizer\n",
    "model = TransformerModel(vocab_size=vocab_size, d_model=d_model, num_heads=num_heads,\n",
    "                         num_layers=num_layers, dim_feedforward=dim_feedforward, dropout=dropout)\n",
    "model.to(device)\n",
    "\n",
    "criterion = nn.CrossEntropyLoss(ignore_index=-100)\n",
    "optimizer = optim.Adam(model.parameters(), lr=learning_rate)\n",
    "\n",
    "# Training loop\n",
    "num_epochs = 10\n",
    "\n",
    "train_losses = []\n",
    "val_losses = []\n",
    "\n",
    "for epoch in range(num_epochs):\n",
    "    model.train()\n",
    "    total_train_loss = 0\n",
    "    for batch_inputs, batch_labels in tqdm(train_loader):\n",
    "        batch_inputs = batch_inputs.to(device)  # Shape: (batch_size, seq_len, vocab_size)\n",
    "        batch_labels = batch_labels.to(device)  # Shape: (batch_size, seq_len)\n",
    "\n",
    "        optimizer.zero_grad()\n",
    "\n",
    "        # Create src_key_padding_mask: True for padding positions\n",
    "        src_key_padding_mask = torch.all(batch_inputs == 0, dim=-1)  # Shape: (batch_size, seq_len)\n",
    "\n",
    "        outputs = model(batch_inputs, src_key_padding_mask=src_key_padding_mask)  # Shape: (batch_size, seq_len, vocab_size - 1)\n",
    "\n",
    "        # Adjust labels: map padding index to -100\n",
    "        adjusted_labels = batch_labels.clone()\n",
    "        adjusted_labels[adjusted_labels == train_dataset.padding_index] = -100  # Ignore padding positions\n",
    "\n",
    "        # Remove [MASK] token index from labels (if present)\n",
    "        adjusted_labels[adjusted_labels == train_dataset.mask_token_index] = -100  # Ignore masked positions in loss\n",
    "\n",
    "        # Ensure labels are within [0, vocab_size - 3] (since vocab_size - 1 is padding index, and vocab_size - 2 is [MASK] token)\n",
    "        valid_label_mask = (adjusted_labels >= 0) & (adjusted_labels <= 3)\n",
    "        adjusted_labels[~valid_label_mask] = -100  # Ignore any invalid labels\n",
    "\n",
    "        # Compute loss\n",
    "        loss = criterion(outputs.view(-1, vocab_size - 2), adjusted_labels.view(-1))\n",
    "\n",
    "        if not torch.isfinite(loss):\n",
    "            print(\"Loss is NaN or Inf, skipping batch\")\n",
    "            continue\n",
    "\n",
    "        loss.backward()\n",
    "        torch.nn.utils.clip_grad_norm_(model.parameters(), max_norm=1.0)\n",
    "        optimizer.step()\n",
    "\n",
    "        total_train_loss += loss.item()\n",
    "\n",
    "    avg_train_loss = total_train_loss / len(train_loader)\n",
    "    train_losses.append(avg_train_loss)\n",
    "\n",
    "    # Validation\n",
    "    model.eval()\n",
    "    total_val_loss = 0\n",
    "    with torch.no_grad():\n",
    "        for batch_inputs, batch_labels in tqdm(val_loader):\n",
    "            batch_inputs = batch_inputs.to(device)\n",
    "            batch_labels = batch_labels.to(device)\n",
    "\n",
    "            src_key_padding_mask = torch.all(batch_inputs == 0, dim=-1)\n",
    "\n",
    "            outputs = model(batch_inputs, src_key_padding_mask=src_key_padding_mask)\n",
    "\n",
    "            adjusted_labels = batch_labels.clone()\n",
    "            adjusted_labels[adjusted_labels == train_dataset.padding_index] = -100\n",
    "            adjusted_labels[adjusted_labels == train_dataset.mask_token_index] = -100 # train_dataset.unknown_nucleotide_index\n",
    "\n",
    "            loss = criterion(outputs.view(-1, vocab_size - 1), adjusted_labels.view(-1))\n",
    "\n",
    "            total_val_loss += loss.item()\n",
    "\n",
    "    avg_val_loss = total_val_loss / len(val_loader)\n",
    "    val_losses.append(avg_val_loss)\n",
    "\n",
    "    print(f\"Epoch {epoch+1}/{num_epochs}, Train Loss: {avg_train_loss:.4f}, Validation Loss: {avg_val_loss:.4f}\")\n"
   ]
  },
  {
   "cell_type": "code",
   "execution_count": 21,
   "id": "57cebbfb",
   "metadata": {},
   "outputs": [
    {
     "data": {
      "image/png": "[encoded data removed]",
      "text/plain": [
       "<Figure size 1000x500 with 1 Axes>"
      ]
     },
     "metadata": {},
     "output_type": "display_data"
    }
   ],
   "source": [
    "# Plot the losses\n",
    "plt.figure(figsize=(10, 5))\n",
    "plt.plot(range(1, num_epochs + 1), train_losses, label='Training Loss')\n",
    "plt.plot(range(1, num_epochs + 1), val_losses, label='Validation Loss')\n",
    "plt.xlabel('Epochs')\n",
    "plt.ylabel('Loss')\n",
    "plt.title('Training and Validation Loss Over Epochs')\n",
    "plt.legend()\n",
    "plt.show()"
   ]
  }
 ],
 "metadata": {
  "kernelspec": {
   "display_name": ".venv",
   "language": "python",
   "name": "python3"
  },
  "language_info": {
   "codemirror_mode": {
    "name": "ipython",
    "version": 3
   },
   "file_extension": ".py",
   "mimetype": "text/x-python",
   "name": "python",
   "nbconvert_exporter": "python",
   "pygments_lexer": "ipython3",
   "version": "3.12.3"
  }
 },
 "nbformat": 4,
 "nbformat_minor": 5
}
