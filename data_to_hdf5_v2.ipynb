{
 "cells": [
  {
   "cell_type": "code",
   "execution_count": 1,
   "id": "7e6d0c06-bec9-455e-a567-88e8875b7e57",
   "metadata": {},
   "outputs": [],
   "source": [
    "import h5py\n",
    "import numpy as np\n",
    "from tqdm import tqdm\n",
    "\n",
    "import seaborn as sns\n",
    "import matplotlib.pyplot as plt\n",
    "sns.set_theme()"
   ]
  },
  {
   "cell_type": "code",
   "execution_count": 4,
   "id": "94740dc6-c22f-4f65-b3a0-1d6b157153d4",
   "metadata": {},
   "outputs": [],
   "source": [
    "input_file = '/mnt/f/hprc/hprc-v1.1-mc-chm13_segments.gfa'\n",
    "output_file = '/mnt/f/hprc/segments_b.hdf5'"
   ]
  },
  {
   "cell_type": "code",
   "execution_count": 7,
   "id": "3a44bd89-7674-491d-bc94-ae38b0ac1ac4",
   "metadata": {},
   "outputs": [],
   "source": [
    "nucleotide_to_index = {'A': 0, 'C': 1, 'G': 2, 'T': 3}\n",
    "dt = h5py.vlen_dtype(np.uint8)\n",
    "max_seq_count = 100000"
   ]
  },
  {
   "cell_type": "code",
   "execution_count": 8,
   "id": "8e7db87b",
   "metadata": {},
   "outputs": [
    {
     "name": "stderr",
     "output_type": "stream",
     "text": [
      "Processing sequences: 99999it [00:05, 16731.69it/s]\n"
     ]
    }
   ],
   "source": [
    "seq_added = 0\n",
    "with h5py.File(output_file, 'w') as hdf5_file:\n",
    "    sequences_dataset = hdf5_file.create_dataset('sequences', shape=(0,), maxshape=(None,), dtype=dt)\n",
    "\n",
    "    with open(input_file, 'r') as f:\n",
    "        for line in tqdm(f, desc=\"Processing sequences\"):\n",
    "            seq = line.strip()\n",
    "            if not seq:\n",
    "                continue  # Skip empty lines\n",
    "\n",
    "            # Encode the sequence\n",
    "            encoded_seq = np.array([nucleotide_to_index.get(nuc, 4) for nuc in seq], dtype=np.uint8)\n",
    "            # '4' can represent 'N' or unknown nucleotides\n",
    "\n",
    "            # Resize the dataset and store the sequence\n",
    "            current_size = sequences_dataset.shape[0]\n",
    "            sequences_dataset.resize((current_size + 1,))\n",
    "            sequences_dataset[current_size] = encoded_seq\n",
    "\n",
    "            seq_added += 1\n",
    "            if seq_added == max_seq_count:\n",
    "                break"
   ]
  }
 ],
 "metadata": {
  "kernelspec": {
   "display_name": ".venv",
   "language": "python",
   "name": "python3"
  },
  "language_info": {
   "codemirror_mode": {
    "name": "ipython",
    "version": 3
   },
   "file_extension": ".py",
   "mimetype": "text/x-python",
   "name": "python",
   "nbconvert_exporter": "python",
   "pygments_lexer": "ipython3",
   "version": "3.12.3"
  }
 },
 "nbformat": 4,
 "nbformat_minor": 5
}
