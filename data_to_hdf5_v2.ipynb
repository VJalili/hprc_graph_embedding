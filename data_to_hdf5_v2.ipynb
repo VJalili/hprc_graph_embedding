{
 "cells": [
  {
   "cell_type": "code",
   "execution_count": 10,
   "id": "7e6d0c06-bec9-455e-a567-88e8875b7e57",
   "metadata": {},
   "outputs": [],
   "source": [
    "import h5py\n",
    "import numpy as np\n",
    "from tqdm import tqdm\n",
    "import random\n",
    "\n",
    "import seaborn as sns\n",
    "import matplotlib.pyplot as plt\n",
    "sns.set_theme()"
   ]
  },
  {
   "cell_type": "code",
   "execution_count": 4,
   "id": "94740dc6-c22f-4f65-b3a0-1d6b157153d4",
   "metadata": {},
   "outputs": [],
   "source": [
    "input_file = '/mnt/f/hprc/hprc-v1.1-mc-chm13_segments.gfa'\n",
    "output_file = '/mnt/f/hprc/segments_b.hdf5'"
   ]
  },
  {
   "cell_type": "code",
   "execution_count": 12,
   "id": "3a44bd89-7674-491d-bc94-ae38b0ac1ac4",
   "metadata": {},
   "outputs": [],
   "source": [
    "nucleotide_to_index = {'A': 0, 'C': 1, 'G': 2, 'T': 3}\n",
    "vocab_size = 4  # Number of unique nucleotides\n",
    "\n",
    "dt = h5py.vlen_dtype(np.uint8)\n",
    "max_seq_count = 100000"
   ]
  },
  {
   "cell_type": "code",
   "execution_count": 13,
   "id": "12d7c21b",
   "metadata": {},
   "outputs": [],
   "source": [
    "train_prob = 0.8\n",
    "val_prob = 0.1\n",
    "test_prob = 0.1\n",
    "assert train_prob + val_prob + test_prob == 1.0, \"Split probabilities must sum to 1.0\"\n",
    "\n",
    "train_count = 0\n",
    "val_count = 0\n",
    "test_count = 0"
   ]
  },
  {
   "cell_type": "code",
   "execution_count": 14,
   "id": "de07940c",
   "metadata": {},
   "outputs": [],
   "source": [
    "max_seq_count = 100000"
   ]
  },
  {
   "cell_type": "code",
   "execution_count": 15,
   "id": "8e7db87b",
   "metadata": {},
   "outputs": [
    {
     "name": "stderr",
     "output_type": "stream",
     "text": [
      "Processing sequences: 99999it [00:04, 23249.62it/s]\n"
     ]
    },
    {
     "name": "stdout",
     "output_type": "stream",
     "text": [
      "Finished processing. Train sequences: 80072, Validation sequences: 10053, Test sequences: 9875\n"
     ]
    }
   ],
   "source": [
    "added_seq_count = 0\n",
    "with h5py.File(output_file, 'w') as hdf5_file:\n",
    "    train_dataset = hdf5_file.create_dataset('train_sequences', shape=(0,), maxshape=(None,), dtype=dt)\n",
    "    val_dataset = hdf5_file.create_dataset('val_sequences', shape=(0,), maxshape=(None,), dtype=dt)\n",
    "    test_dataset = hdf5_file.create_dataset('test_sequences', shape=(0,), maxshape=(None,), dtype=dt)\n",
    "    \n",
    "    with open(input_file, 'r') as f:\n",
    "        for line in tqdm(f, desc=\"Processing sequences\"):\n",
    "            seq = line.strip()\n",
    "            if not seq:\n",
    "                continue  # Skip empty lines\n",
    "\n",
    "            # Encode the sequence\n",
    "            try:\n",
    "                encoded_seq = np.array([nucleotide_to_index[nuc] for nuc in seq if nuc in nucleotide_to_index], dtype=np.uint8)\n",
    "                if len(encoded_seq) == 0:\n",
    "                    continue  # Skip sequences with no valid nucleotides\n",
    "            except KeyError:\n",
    "                # Skip sequences with invalid nucleotides\n",
    "                continue\n",
    "\n",
    "            # Randomly assign the sequence to a split\n",
    "            rand_num = random.random()\n",
    "            if rand_num < train_prob:\n",
    "                dataset = train_dataset\n",
    "                count = train_count\n",
    "                train_count += 1\n",
    "            elif rand_num < train_prob + val_prob:\n",
    "                dataset = val_dataset\n",
    "                count = val_count\n",
    "                val_count += 1\n",
    "            else:\n",
    "                dataset = test_dataset\n",
    "                count = test_count\n",
    "                test_count += 1\n",
    "\n",
    "            # Resize the dataset and store the sequence\n",
    "            dataset.resize((dataset.shape[0] + 1,))\n",
    "            dataset[-1] = encoded_seq  # Store the encoded sequence\n",
    "\n",
    "            added_seq_count += 1\n",
    "            if added_seq_count == max_seq_count:\n",
    "                break\n",
    "\n",
    "print(f\"Finished processing. Train sequences: {train_count}, Validation sequences: {val_count}, Test sequences: {test_count}\")"
   ]
  }
 ],
 "metadata": {
  "kernelspec": {
   "display_name": ".venv",
   "language": "python",
   "name": "python3"
  },
  "language_info": {
   "codemirror_mode": {
    "name": "ipython",
    "version": 3
   },
   "file_extension": ".py",
   "mimetype": "text/x-python",
   "name": "python",
   "nbconvert_exporter": "python",
   "pygments_lexer": "ipython3",
   "version": "3.12.3"
  }
 },
 "nbformat": 4,
 "nbformat_minor": 5
}
